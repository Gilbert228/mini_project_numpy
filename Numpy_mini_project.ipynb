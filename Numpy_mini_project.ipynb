{
  "nbformat": 4,
  "nbformat_minor": 0,
  "metadata": {
    "colab": {
      "name": "Numpy mini project.ipynb",
      "provenance": [],
      "collapsed_sections": [],
      "mount_file_id": "112nhqMtO_FMIgGrgvKMNNI-tWhuW8kIz",
      "authorship_tag": "ABX9TyMzRpm+HFzaTCF9htruSDtC",
      "include_colab_link": true
    },
    "kernelspec": {
      "name": "python3",
      "display_name": "Python 3"
    },
    "language_info": {
      "name": "python"
    }
  },
  "cells": [
    {
      "cell_type": "markdown",
      "metadata": {
        "id": "view-in-github",
        "colab_type": "text"
      },
      "source": [
        "<a href=\"https://colab.research.google.com/github/Gilbert228/mini_project_numpy/blob/main/Numpy_mini_project.ipynb\" target=\"_parent\"><img src=\"https://colab.research.google.com/assets/colab-badge.svg\" alt=\"Open In Colab\"/></a>"
      ]
    },
    {
      "cell_type": "code",
      "source": [
        ""
      ],
      "metadata": {
        "id": "kXpX7NPZlzlM"
      },
      "execution_count": null,
      "outputs": []
    },
    {
      "cell_type": "code",
      "execution_count": null,
      "metadata": {
        "id": "wXbNhTJmkg0J"
      },
      "outputs": [],
      "source": [
        "data_file = \"/content/drive/MyDrive/Colab Notebooks/Data processing /makeSenseOfCensus.csv\""
      ]
    },
    {
      "cell_type": "code",
      "source": [
        "import numpy as np\n",
        "data=np.genfromtxt(data_file,delimiter=\",\",skip_header=1)\n",
        "#printing the data\n",
        "print('\\ndata:\\n\\n',data)\n",
        "print('\\ntype of data:\\n\\n', type(data))"
      ],
      "metadata": {
        "colab": {
          "base_uri": "https://localhost:8080/"
        },
        "id": "8LsZSGB2lq3q",
        "outputId": "7c40867f-d9af-43a9-d167-7ceefa63cb96"
      },
      "execution_count": null,
      "outputs": [
        {
          "output_type": "stream",
          "name": "stdout",
          "text": [
            "\n",
            "data:\n",
            "\n",
            " [[39. 13.  4. ...  0. 40.  0.]\n",
            " [50. 13.  4. ...  0. 13.  0.]\n",
            " [38.  9.  4. ...  0. 40.  0.]\n",
            " ...\n",
            " [48. 13.  4. ...  0. 58.  1.]\n",
            " [40. 10.  4. ...  0. 40.  0.]\n",
            " [39. 13.  4. ...  0. 50.  1.]]\n",
            "\n",
            "type of data:\n",
            "\n",
            " <class 'numpy.ndarray'>\n"
          ]
        }
      ]
    },
    {
      "cell_type": "code",
      "source": [
        "# step 3\n",
        "new_record=np.array([[50,9,4,1,0,0,40,0]])\n",
        "data = np.concatenate((data,new_record),axis = 0)"
      ],
      "metadata": {
        "id": "F856NIxum4fv"
      },
      "execution_count": null,
      "outputs": []
    },
    {
      "cell_type": "code",
      "source": [
        "data"
      ],
      "metadata": {
        "colab": {
          "base_uri": "https://localhost:8080/"
        },
        "id": "n3JDeDDSoTel",
        "outputId": "62b62aa5-fa05-474c-9f04-c2cf1b759f8e"
      },
      "execution_count": null,
      "outputs": [
        {
          "output_type": "execute_result",
          "data": {
            "text/plain": [
              "array([[39., 13.,  4., ...,  0., 40.,  0.],\n",
              "       [50., 13.,  4., ...,  0., 13.,  0.],\n",
              "       [38.,  9.,  4., ...,  0., 40.,  0.],\n",
              "       ...,\n",
              "       [40., 10.,  4., ...,  0., 40.,  0.],\n",
              "       [39., 13.,  4., ...,  0., 50.,  1.],\n",
              "       [50.,  9.,  4., ...,  0., 40.,  0.]])"
            ]
          },
          "metadata": {},
          "execution_count": 4
        }
      ]
    },
    {
      "cell_type": "code",
      "source": [
        "# 1, indexing an entire column\n",
        "age = np.array(data[:,0])\n",
        "print(age)\n",
        "max_age=age.max()\n",
        "print(max_age)\n",
        "min_age=age.min()\n",
        "print(min_age)\n",
        "age_mean=age.mean()\n",
        "print(age_mean)\n",
        "age_std=np.std(age)\n",
        "print(age_std)"
      ],
      "metadata": {
        "colab": {
          "base_uri": "https://localhost:8080/"
        },
        "id": "Xrs4NubMoUe-",
        "outputId": "1f70e2bc-e5ac-4c29-e2c6-17aee6d1ef0f"
      },
      "execution_count": null,
      "outputs": [
        {
          "output_type": "stream",
          "name": "stdout",
          "text": [
            "[39. 50. 38. ... 40. 39. 50.]\n",
            "90.0\n",
            "17.0\n",
            "38.06293706293706\n",
            "13.341478176165857\n"
          ]
        }
      ]
    },
    {
      "cell_type": "code",
      "source": [
        "#step 4\n",
        "race=np.array(data[:,2])\n",
        "print(race)\n",
        "race_0 = race[race==0]\n",
        "race_1 = race[race==1]\n",
        "race_2 = race[ race==2]\n",
        "race_3 = race[race==3]\n",
        "race_4 = race[ race==4]\n",
        "print(race_0)\n",
        "print(race_1)"
      ],
      "metadata": {
        "colab": {
          "base_uri": "https://localhost:8080/"
        },
        "id": "KIN3W1ectcSQ",
        "outputId": "a8529885-c017-406b-a6c6-9b7bd52dd307"
      },
      "execution_count": null,
      "outputs": [
        {
          "output_type": "stream",
          "name": "stdout",
          "text": [
            "[4. 4. 4. ... 4. 4. 4.]\n",
            "[0. 0. 0. 0. 0. 0. 0. 0. 0. 0.]\n",
            "[1. 1. 1. 1. 1. 1. 1. 1. 1. 1. 1. 1. 1. 1. 1. 1. 1. 1. 1. 1. 1. 1. 1. 1.\n",
            " 1. 1. 1.]\n"
          ]
        }
      ]
    },
    {
      "cell_type": "code",
      "source": [
        "len_0=len(race_0)\n",
        "print(len_0)\n",
        "len_1=len(race_1)\n",
        "len_2=len(race_2)\n",
        "len_3=len(race_3)\n",
        "len_4=len(race_4)\n",
        "L=np.array([len_0,len_1,len_2,len_3,len_4])\n",
        "print(L)\n",
        "l_min=L.min()\n",
        "print(l_min)\n",
        "#the minority race is race_3\n",
        "min_race=3"
      ],
      "metadata": {
        "colab": {
          "base_uri": "https://localhost:8080/"
        },
        "id": "DOrcsn2wxCDs",
        "outputId": "8a625795-aec7-4ff4-d2eb-99210da93af5"
      },
      "execution_count": null,
      "outputs": [
        {
          "output_type": "stream",
          "name": "stdout",
          "text": [
            "10\n",
            "[ 10  27 110   6 848]\n",
            "6\n"
          ]
        }
      ]
    },
    {
      "cell_type": "code",
      "source": [
        "#step 5\n",
        "senior_citizen=age[age > 60]\n",
        "\n",
        "working_hour = data[:,6]\n",
        "\n",
        "working_hours_sum = np.sum(working_hour[age>60])\n",
        "\n",
        "working_hours_sum"
      ],
      "metadata": {
        "colab": {
          "base_uri": "https://localhost:8080/"
        },
        "id": "K8eTR9-jzO8v",
        "outputId": "96572e74-3b6f-4e69-d50e-b4e9a7a7feeb"
      },
      "execution_count": null,
      "outputs": [
        {
          "output_type": "execute_result",
          "data": {
            "text/plain": [
              "1917.0"
            ]
          },
          "metadata": {},
          "execution_count": 9
        }
      ]
    },
    {
      "cell_type": "code",
      "source": [
        "senior_citizen_len=len(senior_citizen)\n",
        "print(senior_citizen_len)"
      ],
      "metadata": {
        "id": "Jw4Adylb0MTR",
        "colab": {
          "base_uri": "https://localhost:8080/"
        },
        "outputId": "cce3af59-dede-4d91-a215-7d527d7de43a"
      },
      "execution_count": null,
      "outputs": [
        {
          "output_type": "stream",
          "name": "stdout",
          "text": [
            "61\n"
          ]
        }
      ]
    },
    {
      "cell_type": "code",
      "source": [
        "avg_working_hours=working_hours_sum/senior_citizen_len\n",
        "print(avg_working_hours)\n",
        "# Government policy is not followed since a person over the age of 60 should not work over 25 hours."
      ],
      "metadata": {
        "colab": {
          "base_uri": "https://localhost:8080/"
        },
        "id": "nHUw9S-Eo4Tr",
        "outputId": "45cbaea7-f01f-4ea2-e2e7-dc4bea87e3b9"
      },
      "execution_count": null,
      "outputs": [
        {
          "output_type": "stream",
          "name": "stdout",
          "text": [
            "31.42622950819672\n"
          ]
        }
      ]
    },
    {
      "cell_type": "code",
      "source": [
        "#step 6\n",
        "education_num=data[:,1]\n",
        "high=education_num[education_num>10]\n",
        "low=education_num[education_num<=10]\n",
        "print(high ,'\\n', low)"
      ],
      "metadata": {
        "colab": {
          "base_uri": "https://localhost:8080/"
        },
        "id": "ZbpQU3AbproN",
        "outputId": "d1c3d5c1-5534-4296-d49b-23f84a8f42c2"
      },
      "execution_count": null,
      "outputs": [
        {
          "output_type": "stream",
          "name": "stdout",
          "text": [
            "[13. 13. 13. 14. 14. 13. 13. 13. 12. 11. 14. 16. 13. 12. 13. 12. 13. 13.\n",
            " 13. 14. 11. 11. 15. 13. 11. 13. 16. 13. 13. 12. 13. 14. 16. 11. 13. 16.\n",
            " 12. 14. 13. 14. 13. 15. 11. 13. 13. 13. 13. 12. 12. 13. 12. 14. 11. 11.\n",
            " 13. 13. 13. 14. 14. 12. 14. 11. 13. 13. 13. 13. 13. 14. 16. 13. 13. 14.\n",
            " 14. 14. 13. 13. 13. 12. 13. 13. 11. 15. 13. 14. 13. 12. 12. 15. 13. 11.\n",
            " 13. 13. 14. 14. 13. 12. 13. 14. 15. 13. 13. 13. 13. 13. 14. 13. 12. 12.\n",
            " 12. 13. 14. 13. 14. 11. 13. 11. 14. 12. 11. 13. 11. 12. 13. 13. 13. 13.\n",
            " 11. 14. 13. 13. 12. 13. 11. 14. 13. 12. 13. 13. 13. 13. 11. 14. 16. 13.\n",
            " 14. 14. 13. 12. 14. 13. 12. 11. 12. 13. 13. 14. 13. 11. 13. 12. 13. 13.\n",
            " 13. 12. 13. 13. 13. 11. 11. 11. 13. 13. 13. 14. 12. 15. 11. 13. 16. 11.\n",
            " 13. 13. 13. 14. 14. 11. 16. 13. 12. 13. 13. 13. 13. 13. 15. 13. 13. 12.\n",
            " 14. 14. 13. 13. 13. 15. 13. 11. 13. 13. 13. 13. 16. 16. 13. 16. 14. 14.\n",
            " 12. 13. 11. 13. 14. 13. 12. 14. 14. 13. 13. 13. 16. 13. 13. 13. 11. 13.\n",
            " 13. 13. 13. 13. 11. 11. 13. 13. 14. 11. 13. 13. 13. 13. 11. 13. 16. 13.\n",
            " 13. 11. 11. 14. 13. 11. 11. 13. 11. 13. 14. 13. 12. 14. 13. 13. 11. 11.\n",
            " 14. 11. 13. 13. 13. 13. 13. 13. 14. 11. 13. 16. 13. 13. 13. 13. 14. 13.\n",
            " 13. 11. 13. 13. 13. 11. 13. 11. 13. 15. 14. 13. 13. 12. 13. 13. 14. 14.\n",
            " 14. 15. 13. 12. 13. 14. 13. 12. 13. 13. 11. 13. 13. 14. 12. 11. 13. 11.\n",
            " 14. 13. 13.] \n",
            " [ 9.  7.  5.  9. 10.  4.  9.  9.  7.  9.  5.  7.  9.  9. 10.  9.  9. 10.\n",
            " 10. 10.  7. 10.  9. 10.  5.  9.  9.  9. 10.  9.  9. 10.  3.  9.  9.  4.\n",
            "  9. 10.  9. 10.  9. 10. 10. 10. 10. 10.  9.  6.  7.  4.  9.  9.  9.  9.\n",
            "  9.  9.  5. 10. 10.  9. 10. 10.  9. 10.  9.  9.  6.  7.  9.  9.  9. 10.\n",
            "  9.  5. 10. 10.  9. 10. 10. 10.  9. 10.  9.  9.  9. 10. 10.  9. 10. 10.\n",
            " 10.  9. 10.  9.  7. 10. 10.  9.  9.  9.  9. 10.  9.  2.  9.  9. 10.  7.\n",
            "  9.  9. 10.  9.  9.  9.  9. 10. 10. 10.  4. 10.  9. 10. 10. 10.  3. 10.\n",
            "  9.  9. 10.  9.  7.  9.  9.  7.  9.  9. 10.  9.  4.  6. 10.  2.  9.  9.\n",
            "  1.  9.  6.  9.  9.  7.  9. 10. 10.  9. 10.  9.  9. 10. 10.  9.  9.  9.\n",
            "  9.  6. 10. 10.  9.  9.  9.  4.  9.  7. 10.  7. 10. 10.  9.  9.  9.  5.\n",
            "  9.  9. 10. 10. 10. 10. 10.  9. 10.  4.  9. 10.  9.  9.  9. 10.  9.  9.\n",
            " 10.  9. 10. 10. 10. 10. 10.  3. 10.  9.  9. 10.  9.  7.  9. 10.  9.  9.\n",
            " 10.  6.  9.  3.  9.  9.  9.  9.  9. 10.  7.  9.  7.  9.  7.  9.  5.  6.\n",
            "  9.  9. 10.  9. 10.  7.  9.  9. 10.  9. 10.  9.  9.  3. 10. 10. 10.  9.\n",
            "  9. 10. 10.  9.  9.  9. 10. 10.  9. 10. 10.  4.  9.  9. 10. 10. 10.  9.\n",
            " 10. 10.  8.  2.  7.  7.  9. 10.  7.  9.  6.  9.  9.  9.  9.  7. 10.  9.\n",
            " 10. 10. 10.  9.  9. 10.  5. 10.  9.  9.  9.  7.  9. 10.  9.  9.  9. 10.\n",
            "  9. 10.  9.  2.  9.  9. 10. 10. 10.  9.  9.  5. 10.  6.  9. 10.  9.  8.\n",
            " 10.  2.  9.  9.  9.  9.  9. 10.  3. 10.  9.  9.  9. 10. 10. 10. 10.  9.\n",
            "  9.  3. 10.  9. 10. 10. 10.  9. 10. 10. 10. 10. 10.  9.  7.  9.  9.  8.\n",
            "  2.  9. 10. 10.  9. 10.  9.  6. 10.  9. 10. 10.  9.  7.  9.  7.  9.  9.\n",
            "  9.  7. 10.  9.  9.  4.  9.  9.  9.  7.  8. 10. 10.  9.  9.  9. 10. 10.\n",
            "  7.  6.  9.  9.  4.  9. 10. 10. 10.  4.  5.  9.  9.  9.  6.  9.  9.  9.\n",
            "  9.  9.  7.  5.  5.  9.  9.  9. 10. 10.  6. 10.  9.  9.  3.  9.  9. 10.\n",
            " 10. 10.  9.  9.  9. 10.  9. 10.  9. 10.  5.  9.  4.  9.  8. 10. 10. 10.\n",
            "  9.  7.  5. 10.  7.  7.  9.  9.  8. 10.  9.  9.  9.  9. 10.  7.  9.  4.\n",
            "  9. 10. 10. 10. 10.  9. 10. 10.  8. 10.  9.  7. 10.  9.  9.  9. 10.  9.\n",
            "  9.  9.  9. 10.  9.  7. 10. 10. 10. 10. 10.  9. 10.  9.  8.  9. 10.  7.\n",
            "  6.  9.  9.  9.  9.  9.  9.  9.  9.  6. 10. 10.  9. 10.  3.  9.  9. 10.\n",
            " 10. 10. 10. 10.  9.  8.  9.  9. 10.  9.  9. 10.  9.  9.  9.  7.  9.  7.\n",
            "  9.  9.  9. 10. 10. 10.  6.  9. 10.  9.  9.  9.  9.  9.  9.  9. 10.  7.\n",
            " 10. 10.  9.  7.  9.  9.  9.  7. 10. 10.  9. 10.  9.  9.  9.  9.  9.  9.\n",
            "  7.  9.  7. 10.  9. 10.  6.  7. 10. 10.  3.  9.  9.  9.  5.  9. 10. 10.\n",
            " 10.  9. 10. 10.  9.  4.  5.  9.  9.  9. 10.  9. 10.  9. 10.  6. 10.  9.\n",
            "  9.  9. 10. 10. 10.  3. 10.  9.  9.  9. 10.  2.  9. 10.  1.  9.  7.  9.\n",
            "  9.  9.  9.  9.  9. 10. 10. 10. 10.  9.  4.  9. 10.  6. 10.  6. 10.  9.\n",
            "  6.  9.  9. 10.  9.  9.  9.  9. 10. 10.  9.  9.  9.  9.  9.  9.  9.  9.\n",
            "  9. 10.  9.  9.  9.  9. 10.  9.]\n"
          ]
        }
      ]
    },
    {
      "cell_type": "code",
      "source": [
        "income=data[:,7]\n",
        "avg_pay_high=np.mean(income[education_num>10])\n",
        "print(round(avg_pay_high*100,2))\n",
        "avg_pay_low=np.mean(income[education_num<=10])\n",
        "print(round(avg_pay_low*100,2))"
      ],
      "metadata": {
        "colab": {
          "base_uri": "https://localhost:8080/"
        },
        "id": "bOjPeRpIqTAV",
        "outputId": "050ab38e-2ee8-42a0-b625-70cdcb279e65"
      },
      "execution_count": null,
      "outputs": [
        {
          "output_type": "stream",
          "name": "stdout",
          "text": [
            "42.81\n",
            "13.65\n"
          ]
        }
      ]
    },
    {
      "cell_type": "code",
      "source": [
        ""
      ],
      "metadata": {
        "id": "qy8FkbTjq37C"
      },
      "execution_count": null,
      "outputs": []
    }
  ]
}